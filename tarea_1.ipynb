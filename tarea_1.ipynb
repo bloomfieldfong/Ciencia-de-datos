{
  "cells": [
    {
      "cell_type": "markdown",
      "metadata": {
        "id": "view-in-github",
        "colab_type": "text"
      },
      "source": [
        "<a href=\"https://colab.research.google.com/github/bloomfieldfong/Ciencia-de-datos/blob/main/tarea_1.ipynb\" target=\"_parent\"><img src=\"https://colab.research.google.com/assets/colab-badge.svg\" alt=\"Open In Colab\"/></a>"
      ]
    },
    {
      "cell_type": "code",
      "execution_count": null,
      "metadata": {
        "id": "h0Pq3wEWhN-N"
      },
      "outputs": [],
      "source": [
        "import validaciones"
      ]
    },
    {
      "cell_type": "markdown",
      "metadata": {
        "id": "4ShRkoIHhN-P"
      },
      "source": [
        "# Ejercicios Python"
      ]
    },
    {
      "cell_type": "markdown",
      "metadata": {
        "id": "NnTF18ZAhN-T"
      },
      "source": [
        "## Zen of Python\n",
        "\n",
        "Lee una vez mas el Zen of Python antes de iniciar con la tarea"
      ]
    },
    {
      "cell_type": "code",
      "execution_count": null,
      "metadata": {
        "colab": {
          "base_uri": "https://localhost:8080/"
        },
        "id": "RyxD_ncShN-V",
        "outputId": "374b794b-e324-452c-d535-c66196ec5b9d"
      },
      "outputs": [
        {
          "name": "stdout",
          "output_type": "stream",
          "text": [
            "The Zen of Python, by Tim Peters\n",
            "\n",
            "Beautiful is better than ugly.\n",
            "Explicit is better than implicit.\n",
            "Simple is better than complex.\n",
            "Complex is better than complicated.\n",
            "Flat is better than nested.\n",
            "Sparse is better than dense.\n",
            "Readability counts.\n",
            "Special cases aren't special enough to break the rules.\n",
            "Although practicality beats purity.\n",
            "Errors should never pass silently.\n",
            "Unless explicitly silenced.\n",
            "In the face of ambiguity, refuse the temptation to guess.\n",
            "There should be one-- and preferably only one --obvious way to do it.\n",
            "Although that way may not be obvious at first unless you're Dutch.\n",
            "Now is better than never.\n",
            "Although never is often better than *right* now.\n",
            "If the implementation is hard to explain, it's a bad idea.\n",
            "If the implementation is easy to explain, it may be a good idea.\n",
            "Namespaces are one honking great idea -- let's do more of those!\n"
          ]
        }
      ],
      "source": [
        "import this"
      ]
    },
    {
      "cell_type": "markdown",
      "metadata": {
        "id": "UR0F_2AvhN-W"
      },
      "source": [
        "## 1 - XOR\n",
        "\n",
        "En la siguiente celda crea una funcion para la compuerta logica XOR \n",
        "\n",
        "<img src=\"https://raw.githubusercontent.com/llealgt/Galileo_Python_DS/main/NumPy_algebra_lineal/xor.png\" width=\"400\">\n"
      ]
    },
    {
      "cell_type": "code",
      "execution_count": null,
      "metadata": {
        "id": "atkEO6Z6hN-Y"
      },
      "outputs": [],
      "source": [
        "def xor(a,b):\n",
        "  \n",
        "  if ((a == 0 and b ==0) or (a == False and b == False)):\n",
        "    return False\n",
        "  elif((a == 0 and b == 1)  or (a == False and b == True)):\n",
        "    return True\n",
        "  elif ((a == 1 and b == 0)  or (a == True and b == False )):\n",
        "    return  True\n",
        "  elif ((a == 1 and b == 1) or (a == True and b == True)):\n",
        "    return False"
      ]
    },
    {
      "cell_type": "code",
      "execution_count": null,
      "metadata": {
        "id": "cLmUUibphN-Z"
      },
      "outputs": [],
      "source": [
        "xor(0 , 1) "
      ]
    },
    {
      "cell_type": "code",
      "execution_count": null,
      "metadata": {
        "id": "U-VtVwxdhN-a"
      },
      "outputs": [],
      "source": [
        "xor(0 , 0)"
      ]
    },
    {
      "cell_type": "code",
      "execution_count": null,
      "metadata": {
        "colab": {
          "base_uri": "https://localhost:8080/"
        },
        "id": "1Tc52yZvhN-c",
        "outputId": "0b26eb52-002c-4bcd-b1da-c804f06fa9c7"
      },
      "outputs": [
        {
          "data": {
            "text/plain": [
              "True"
            ]
          },
          "execution_count": 7,
          "metadata": {},
          "output_type": "execute_result"
        }
      ],
      "source": [
        "xor(True , False)"
      ]
    },
    {
      "cell_type": "markdown",
      "metadata": {
        "id": "wKadE8GshN-e"
      },
      "source": [
        "### Pruebas  Automaticas\n",
        "\n",
        "Todas las pruebas deben funcionar para obetener los puntos del ejercicio."
      ]
    },
    {
      "cell_type": "code",
      "execution_count": null,
      "metadata": {
        "colab": {
          "base_uri": "https://localhost:8080/"
        },
        "id": "eb7b_hvthN-e",
        "outputId": "523372dd-b5ce-4637-f7d8-89581881ccd2"
      },
      "outputs": [
        {
          "name": "stdout",
          "output_type": "stream",
          "text": [
            "Prueba 1\n",
            "Prueba 1 [CORRECTA]\n",
            "Prueba 2\n",
            "Prueba 2 [CORRECTA]\n"
          ]
        }
      ],
      "source": [
        "validaciones.xor_function(xor)"
      ]
    },
    {
      "cell_type": "markdown",
      "metadata": {
        "id": "pkWuGNc-hN-f"
      },
      "source": [
        "## 2 - Sumando N series\n",
        "\n",
        "Tenemos una secuencia cuyo $n^{th}$ es:\n",
        "\\begin{equation*}\n",
        "\\ T_n = n^2 - (n-1)^2\n",
        "\\end{equation*}\n",
        "\n",
        "Hay que evaluar las series:\n",
        "\\begin{equation*}\n",
        "\\ S_n = T_1 + T_2 + ... + T_n\n",
        "\\end{equation*}\n",
        "\n",
        "\n",
        "**Instrucciones**\n",
        "En la siguiente celda en la funcion summingSeries debemos **retornar** en valor de $S_n$, tenemos como entrada n\n",
        "\n",
        "**Ejemplo 1:**\n",
        "\n",
        "Si la entrada es 2\n",
        "\n",
        "Salida:\n",
        "4\n",
        "\n",
        "Explicacion:\n",
        "\n",
        "$T_1 = 1$\n",
        "\n",
        "$T_2 = 3$\n",
        "\n",
        "$S_2 = T_1 + T_2$\n",
        "\n",
        "$S_2 = 4 $\n",
        "\n",
        "\n",
        "\n",
        "**Tip :**\n",
        "Antes te implementar $S_n$ debemos analizar el problema y ver si podemos reducir la complejidad.\n"
      ]
    },
    {
      "cell_type": "code",
      "execution_count": 1,
      "metadata": {
        "id": "6tBRkr-fhN-g"
      },
      "outputs": [],
      "source": [
        "import numpy as np\n",
        "\n",
        "def summingSeriesV1(n):\n",
        "  contador = 0\n",
        "  for i in range(1,n+1):\n",
        "    contador += ((i**2) - ((i-1)**2))\n",
        "  return contador\n",
        "\n",
        "def paralelizacion(x):\n",
        "  i = np.arange(x[0],x[-1]+1)\n",
        "  primeraparte = np.square(i)\n",
        "  segundaparte = np.square(i-1) \n",
        "  return np.sum(primeraparte - segundaparte)\n",
        "\n",
        "def summingSeriesV2(n):\n",
        "  numeros = []\n",
        "  sumatoria = 0\n",
        "  if n > 100000000:\n",
        "    iter = 10\n",
        "  else: \n",
        "    iter = 1\n",
        "  lst = range(1,n+1)\n",
        "  hola = np.array_split(lst, iter)\n",
        "  \n",
        "  for i in range(0, len(hola)):\n",
        "    sumatoria += paralelizacion(hola[i])\n",
        "  return sumatoria\n",
        "\n",
        "def summingsSeriesV3(x):\n",
        "  suma = 0\n",
        "  while x > 0:\n",
        "      suma += ((x**2) - ((x-1)**2))\n",
        "      x = x-1\n",
        "  return  suma     \n",
        "\n",
        "def summingSeriersV4(x):\n",
        "  np1 = np.arange( x+1, dtype=np.uint64)\n",
        "\n",
        "  p1 = np.square(np1)\n",
        "  p12 = np.square(np1-1)\n",
        "  return np.sum(p1 - p12)+1\n",
        "\n",
        "  \n"
      ]
    },
    {
      "cell_type": "code",
      "source": [
        ""
      ],
      "metadata": {
        "id": "v2TPqqbeHP38"
      },
      "execution_count": null,
      "outputs": []
    },
    {
      "cell_type": "code",
      "execution_count": null,
      "metadata": {
        "id": "lcq_r8z7W8KA"
      },
      "outputs": [],
      "source": [
        ""
      ]
    },
    {
      "cell_type": "markdown",
      "metadata": {
        "id": "xjtbCo3qhN-i"
      },
      "source": [
        "#### 2.1 - Ciclos\n",
        "\n",
        "Crea un ciclo for que imprima el resultado de la funcion **summingSeries** desde 1 hasta 10"
      ]
    },
    {
      "cell_type": "code",
      "execution_count": 20,
      "metadata": {
        "colab": {
          "base_uri": "https://localhost:8080/"
        },
        "id": "yd5X1-EehN-k",
        "outputId": "ce616bf2-35bd-4369-8327-2e6606030d34"
      },
      "outputs": [
        {
          "output_type": "stream",
          "name": "stdout",
          "text": [
            "Summing Series de 1: 1.0\n",
            "Summing Series de 2: 4.0\n",
            "Summing Series de 3: 9.0\n",
            "Summing Series de 4: 16.0\n",
            "Summing Series de 5: 25.0\n",
            "Summing Series de 6: 36.0\n",
            "Summing Series de 7: 49.0\n",
            "Summing Series de 8: 64.0\n",
            "Summing Series de 9: 81.0\n",
            "Summing Series de 10: 100.0\n"
          ]
        }
      ],
      "source": [
        "n = 10\n",
        "for i in range(1,n+1):\n",
        "  print(\"Summing Series de \"+str(i)+\": \"+str(summingSeriersV4(i)))\n"
      ]
    },
    {
      "cell_type": "markdown",
      "metadata": {
        "id": "q8s9DSeFhN-k"
      },
      "source": [
        "### Pruebas  Automaticas\n",
        "\n",
        "Todas las pruebas deben funcionar para obetener los puntos del ejercicio.\n",
        "\n",
        "##### Importante :\n",
        "En este ejercicio se evalua que la funcion sea optima, el tiempo de ejecucion tiene que ser el menor posible, se va a evaluar el resultado correcto y el tiempo de ejecucion, si en alguna de las pruebas obtienes **[FALLO: TIMEOUT]** la funcion no es optima debes cambiarla hasta que todas las pruebas pasen"
      ]
    },
    {
      "cell_type": "code",
      "execution_count": null,
      "metadata": {
        "colab": {
          "background_save": true
        },
        "id": "GC2zVdq7hN-l",
        "outputId": "80330532-27e9-42f7-a537-065b40227c8f"
      },
      "outputs": [
        {
          "name": "stdout",
          "output_type": "stream",
          "text": [
            "Prueba 1\n",
            "Prueba 1[CORRECTA]\n",
            "Prueba 2\n",
            "Prueba 2[CORRECTA]\n",
            "Prueba 3\n",
            "Prueba 3[CORRECTA]\n",
            "Prueba 4\n",
            "Prueba 4[CORRECTA]\n",
            "Prueba 5\n",
            "Prueba 5[CORRECTA]\n",
            "Prueba 6\n"
          ]
        }
      ],
      "source": [
        "validaciones.summingSeries_function(summingsSeriesV3)"
      ]
    },
    {
      "cell_type": "markdown",
      "metadata": {
        "id": "yxvH3MfPhN-n"
      },
      "source": [
        "## 3 - Factores Primos\n",
        "\n",
        "Para cada $n$ queremos obtener el conteo maximo de numeros primos unicos en en rango inclusivo $[1, n]$,\n",
        "y retornar el valor del conteo en una nueva linea\n",
        "\n",
        "**Nota:** Recuerda que un numero primo solo es divisible por el mismo y que 1 no es un numero primo\n",
        "\n",
        "##### Ejemplos:\n",
        "\n",
        "###### Ejemplo 1\n",
        "Entrada: 1\n",
        "\n",
        "Salida esperada: 1\n",
        "\n",
        "Explicacion: El numero maximo de factores primos unicos en el rango inclusivo $[1,1]$ es $0$, porque $1$ no es un numero primo.\n",
        "\n",
        "###### Ejemplo 2\n",
        "Entrada: 3\n",
        "\n",
        "Salida esperada: 1\n",
        "\n",
        "Explicacion: El numero maximo de factores primos unicos en el rango inclusivo $[1,3]$ es $1$, porque el numero $3$ tiene 1 factor primo unico (el mismo) \n",
        "\n",
        "###### Ejemplo 3\n",
        "Entrada: 500\n",
        "\n",
        "Salida esperada: 4\n",
        "\n",
        "Explicacion: El numero maximo de factores primos unicos en el rango inclusivo $[1,500]$ es $4$, porque el producto de los primeros cuatro numeros primos unicos es $2 \\times 3 \\times 5 \\times 7 = 210$ y no hay ningun numero primo unico que multiplicado por el resultado sea $\t\\leqslant 500$\n",
        "\n",
        "\n",
        "\n",
        "#### Tip: \n",
        "Utiliza la funcion `range()` de python\n"
      ]
    },
    {
      "cell_type": "code",
      "execution_count": null,
      "metadata": {
        "id": "yRU2x8GQhN-n"
      },
      "outputs": [],
      "source": [
        ""
      ]
    },
    {
      "cell_type": "code",
      "execution_count": null,
      "metadata": {
        "id": "QalcdX5MhN-n"
      },
      "outputs": [],
      "source": [
        "def conteoPrimos(numero):\n",
        "  cont = 0\n",
        "  primos = []\n",
        "  cuenta  =[]\n",
        "  algo = 1\n",
        "  if numero == 1:\n",
        "    return 0\n",
        "\n",
        "  if numero == 2:\n",
        "    return 1\n",
        "  for n in range(0, numero + 1):\n",
        "      for d in range(1, n + 1):\n",
        "          if n % d == 0:\n",
        "              cont += 1\n",
        "      if cont == 2:\n",
        "          primos.append(n)\n",
        "          for i in range(0, len(primos)):         \n",
        "            algo = algo * primos[i]\n",
        "            if algo <= numero:\n",
        "              cuenta.append(algo)\n",
        "            else:\n",
        "              return len(primos)-1\n",
        "          algo = 1\n",
        "      cont = 0\n"
      ]
    },
    {
      "cell_type": "markdown",
      "metadata": {
        "id": "qpmX8b8lhN-n"
      },
      "source": [
        "### Pruebas"
      ]
    },
    {
      "cell_type": "code",
      "execution_count": null,
      "metadata": {
        "colab": {
          "base_uri": "https://localhost:8080/"
        },
        "id": "OOaUBR7phN-p",
        "outputId": "688ca0e0-c892-4041-f353-c0bc14ec306f"
      },
      "outputs": [
        {
          "data": {
            "text/plain": [
              "0"
            ]
          },
          "execution_count": 2,
          "metadata": {},
          "output_type": "execute_result"
        }
      ],
      "source": [
        "conteoPrimos(1)"
      ]
    },
    {
      "cell_type": "code",
      "execution_count": null,
      "metadata": {
        "colab": {
          "base_uri": "https://localhost:8080/"
        },
        "id": "7ePq2BsYhN-p",
        "outputId": "43334940-561e-4e73-aeb9-ad72d393fc7a"
      },
      "outputs": [
        {
          "data": {
            "text/plain": [
              "4"
            ]
          },
          "execution_count": 3,
          "metadata": {},
          "output_type": "execute_result"
        }
      ],
      "source": [
        "conteoPrimos(500)"
      ]
    },
    {
      "cell_type": "markdown",
      "metadata": {
        "id": "GRHBJ1QahN-q"
      },
      "source": [
        "### Pruebas  Automaticas\n",
        "\n",
        "Todas las pruebas deben funcionar para obetener los puntos del ejercicio.\n",
        "\n",
        "##### Importante :\n",
        "En este ejercicio se evalua que la funcion sea optima, el tiempo de ejecucion tiene que ser el menor posible, se va a evaluar el resultado correcto y el tiempo de ejecucion, si en alguna de las pruebas obtienes **[FALLO: TIMEOUT]** la funcion no es optima debes cambiarla hasta que todas las pruebas pasen"
      ]
    },
    {
      "cell_type": "code",
      "execution_count": null,
      "metadata": {
        "colab": {
          "base_uri": "https://localhost:8080/"
        },
        "id": "UXqaQQoBhN-r",
        "outputId": "cb1118ae-a923-4a72-9f4b-595c2114b212"
      },
      "outputs": [
        {
          "name": "stdout",
          "output_type": "stream",
          "text": [
            "Prueba 1\n",
            "Prueba 1[CORRECTA]\n",
            "Prueba 2\n",
            "Prueba 2[CORRECTA]\n",
            "Prueba 3\n",
            "Prueba 3[CORRECTA]\n",
            "Prueba 4\n",
            "Prueba 4[CORRECTA]\n",
            "Prueba 5\n",
            "Prueba 5[CORRECTA]\n",
            "Prueba 6\n",
            "Prueba 6[CORRECTA]\n",
            "Prueba 7\n",
            "Prueba 7[CORRECTA]\n",
            "Prueba 8\n",
            "Prueba 8[CORRECTA]\n",
            "Prueba 9\n",
            "Prueba 9[CORRECTA]\n",
            "Prueba 10\n",
            "Prueba 10[CORRECTA]\n",
            "Prueba 11\n",
            "Prueba 11[CORRECTA]\n",
            "Prueba 12\n",
            "Prueba 12[CORRECTA]\n"
          ]
        }
      ],
      "source": [
        "validaciones.primeCount_function(conteoPrimos)"
      ]
    },
    {
      "cell_type": "markdown",
      "metadata": {
        "id": "f-ffP-SEhN-r"
      },
      "source": [
        "## 4 - Metodo de Euler\n",
        "\n",
        "El metodo de Euler se utiliza para aproximar la solucion particular de una ecuacion diferencial dado un valor inicial. Con esta informacion se sabe que la grafica de esa solucion pasa a traves del punto $(x_0,y_0)$ y tiene una pendiente $F(x_0,y_0)$ en ese punto, esto da un punto de partida para aproximar la solucion.\n",
        "\n",
        "A partir del punto inicial, se sigue en la direccion indicada por la pendiente. Mediante un pequeño paso $h$, se mueve a lo largo de la recta tangente hasta llegar al punto $(x_1,y_1)$ donde:\n",
        "\\begin{equation*}\n",
        "\\ x_1 = x_0 + h       \\\\\n",
        "\\ y_1 = y_0 + hF(x_0,y_0)\\\\\n",
        "\\end{equation*}\n",
        "\n",
        "\n",
        "<img src=\"https://raw.githubusercontent.com/llealgt/Galileo_Python_DS/main/NumPy_algebra_lineal/Euler.png\" width=\"350\">\n",
        "\n",
        "Como se muestra en la figura se considera $(x_1,y_1)$ como un nuevo punto inicial.\n",
        "\n",
        "Los valores de $x$ son:\n",
        "\\begin{equation*}\n",
        "\\ x_1 = x_0 + h       \\\\\n",
        "\\ x_2 = x_1 + h       \\\\\n",
        "\\    .                \\\\\n",
        "\\    .                \\\\\n",
        "\\    .                \\\\\n",
        "\\ x_n = x_{n-1} + h   \\\\\n",
        "\\end{equation*}\n",
        "\n",
        "\n",
        "Los valores de $y$ son:\n",
        "\\begin{equation*}\n",
        "\\ y_1 = y_0 + hF(x_0,y_0)\\\\\n",
        "\\ y_1 = y_1 + hF(x_1,y_1)\\\\\n",
        "\\       . \\\\\n",
        "\\       . \\\\\n",
        "\\       . \\\\\n",
        "\\ y_n = y_{n-1} + hF(x_{n-1},y_{n-1})\\\\\n",
        "\\end{equation*}\n",
        "\n",
        "\n",
        "#### Problema 4\n",
        "El ejecicio consiste en implementar la funcion *euler_metod* esta funcion recibe como parametro el \n",
        "* punto inicial $x_0$\n",
        "* punto inicial $y_0$\n",
        "* Paso $h$ \n",
        "* numero de iteraciones $n$ \n",
        "* La equacion diferencial que queremos aproximar, esta funcion tambien recibe los parametros $x$ y $y$\n",
        "* La funcion de la solucion exacta que tambien tambien recibe los parametros $x$ y $y$\n",
        "\n",
        "La funcion debe retornar el valor de $y_n$ y el error\n",
        "$error=|y - y_n|$ "
      ]
    },
    {
      "cell_type": "code",
      "execution_count": null,
      "metadata": {
        "id": "6i67tGHghN-s"
      },
      "outputs": [],
      "source": [
        "import math "
      ]
    },
    {
      "cell_type": "code",
      "execution_count": 13,
      "metadata": {
        "id": "Z7tp96EmhN-s"
      },
      "outputs": [],
      "source": [
        "def euler_method(x,y,h,n, diff_eq, func):\n",
        "  a = []\n",
        "  b = []\n",
        "  a.append(x)\n",
        "  b.append(y)\n",
        "\n",
        "  for i in range(n):\n",
        "    a.append(a[i]+ h)\n",
        "    b.append(b[i] + h * diff_eq(a[i],b[i]))\n",
        "  error = abs(func(y) - b[-1])\n",
        "\n",
        "  return b[-1], error\n",
        "\n",
        "\n",
        "        \n",
        "   \n",
        "        "
      ]
    },
    {
      "cell_type": "markdown",
      "metadata": {
        "id": "iBef1IGxhN-t"
      },
      "source": [
        "### Ejemplo\n",
        "\n",
        "Queremos aproximar la solucion particular de la ecuacion diferencial\n",
        "\\begin{equation*}\n",
        "\\ \\frac{\\partial y}{\\partial x} = -2y \\\\\n",
        "\\end{equation*}\n",
        "Donde $y(0) = 4$ vamos a unsa un de $h=0.1$\n",
        "\n",
        "Tambien vamos a calcular el error en este caso podemos verificar el error  con la solucion exacta:\n",
        "\\begin{equation*}\n",
        "\\ y = 4e^{-2x} \\\\\n",
        "\\end{equation*}"
      ]
    },
    {
      "cell_type": "code",
      "execution_count": 14,
      "metadata": {
        "id": "uMIJ0w3IhN-t"
      },
      "outputs": [],
      "source": [
        "### Implementando las funciones del ejemplo\n",
        "import math\n",
        "def y_prime(x, y):\n",
        "    return -2*y\n",
        "\n",
        "def y(x):\n",
        "    return 4 * math.exp(-2*x)"
      ]
    },
    {
      "cell_type": "code",
      "execution_count": 16,
      "metadata": {
        "id": "cbOrRazVhN-u",
        "colab": {
          "base_uri": "https://localhost:8080/"
        },
        "outputId": "cdf34aed-e2df-42c7-b384-2df71d3978c9"
      },
      "outputs": [
        {
          "output_type": "stream",
          "name": "stdout",
          "text": [
            "Y10 :0.4294967296000001\n",
            "Error: 0.42815487908839006\n"
          ]
        }
      ],
      "source": [
        "\"\"\"\n",
        "Llamamos a la funcion de euler\n",
        "euler_method(0,4,0.1,10, y_prime,y)\n",
        "Parametros :\n",
        "x = 0\n",
        "y = 4\n",
        "d = 0.1\n",
        "n = 10\n",
        "diff_eq = y_prime\n",
        "func = y\n",
        "\"\"\"\n",
        "n = 10\n",
        "\n",
        "yinicial, yerror  = euler_method(0,4,0.1,n, y_prime,y)\n",
        "print(\"Y\"+str(n)+\" :\"+ str(yinicial))\n",
        "print(\"Error: \"+str(yerror))"
      ]
    },
    {
      "cell_type": "markdown",
      "metadata": {
        "id": "8ZbADvkNhN-u"
      },
      "source": [
        "### Solucion:\n",
        "\n",
        "Utiliza esta tabla como guia para validar que tu funcion este correcta,\n",
        "y reemplaza los valores que faltan con la salida de tu funcion.\n",
        "\n",
        "| x     | 0 | 0.1         | 0.2    | 0.4    | 0.6    | 0.8    | 1            |\n",
        "|-------|---|-------------|--------|--------|--------|--------|--------------|\n",
        "| y     | 4 | 3.2749      | 2.6813 | 1.7973 | 1.2048 | 0.8076 | 0.5413       |\n",
        "| $y_n$ | 4 | $y_1$       | 2.56   | 1.6384 | 1.0486 | 0.6711 | $y_10$       |\n",
        "| error | 0 | y - $y_1$   | 0.1213 | 0.1589 | 0.1562 | 0.1365 | y-$y_{10}$ |"
      ]
    },
    {
      "cell_type": "markdown",
      "metadata": {
        "id": "oZPoo0z6hN-v"
      },
      "source": [
        "### 4.1 Probando la implementacion\n",
        "#### Desintegracion Radiactiva\n",
        "$A$ es la cantidad se sustancia en el tiempo $t$, la derivada $\\frac{\\partial A}{\\partial t}$ es rapidez a la que se desintegran los nucleos de una sustancia.\n",
        "\n",
        "Queremos aproximar la solucion particular de la ecuacion diferencial\n",
        "\\begin{equation*}\n",
        "\\ \\frac{\\partial A}{\\partial t} =  -0.56A \\\\\n",
        "\\end{equation*}\n",
        "Donde $A(0) = 1$ vamos a unsa un de $h=0.1$\n",
        "\n",
        "Tambien vamos a calcular el error en este caso podemos verificar el error  con la solucion exacta:\n",
        "\\begin{equation*}\n",
        "\\ A(t) = e^{-0.56t} \\\\\n",
        "\\end{equation*}"
      ]
    },
    {
      "cell_type": "code",
      "execution_count": 17,
      "metadata": {
        "id": "dcWAVY7zhN-v"
      },
      "outputs": [],
      "source": [
        "from math import e\n",
        "def disintegracion(x,y):\n",
        "  return -0.56*y\n",
        "\n",
        "def y(x):\n",
        "  return e ** (-0.56*x)"
      ]
    },
    {
      "cell_type": "code",
      "execution_count": 19,
      "metadata": {
        "id": "as-7TPXuhN-v",
        "colab": {
          "base_uri": "https://localhost:8080/"
        },
        "outputId": "0c38af32-7594-4329-9cc5-85d192bfec1f"
      },
      "outputs": [
        {
          "output_type": "stream",
          "name": "stdout",
          "text": [
            "Y10 :2.2479152536206892\n",
            "Error: 2.1414567492414363\n"
          ]
        }
      ],
      "source": [
        "yinicial, yerror  = euler_method(0,4,0.1,10, disintegracion,y)\n",
        "\n",
        "print(\"Y\"+str(n)+\" :\"+ str(yinicial))\n",
        "print(\"Error: \"+str(yerror))"
      ]
    },
    {
      "cell_type": "markdown",
      "metadata": {
        "id": "JHuTBlYohN-w"
      },
      "source": [
        "## 5 - Rotacion de listas hacia la izquierda\n",
        "\n",
        "Una rotacion a la izquierda en un arreglo mueve cada elemento del arreglo una vez hacia la izquierda. Por ejemplo, si hacemos $1$ rotacion en en el arreglo $[1,2,3,4,5]$, el arreglo resultante seria $[2,3,4,5,1]$\n",
        "\n",
        "#### Descipcion de la funcion\n",
        "Dado un arreglo $a$ de $n$ integers y un numero $d$ de rotaciones, realizar $d$ rotaciones hacia la izquierda. La funcion debe retorner el arreglo re-ordenado.\n",
        "\n",
        "**rotIzquierda** tiene los siguientes parametros:\n",
        "\n",
        "* $a$ Un arreglo de numeros entreros.\n",
        "* $d$ numero de rotaciones."
      ]
    },
    {
      "cell_type": "code",
      "execution_count": null,
      "metadata": {
        "id": "baweLtQHhN-w"
      },
      "outputs": [],
      "source": [
        "def rotIzquierda(a, d):\n",
        "  for i in range(1,d+1):\n",
        "    x = a[0]\n",
        "    a.pop(0)\n",
        "    a.append(x)\n",
        "  return a"
      ]
    },
    {
      "cell_type": "code",
      "execution_count": null,
      "metadata": {
        "colab": {
          "base_uri": "https://localhost:8080/"
        },
        "id": "g-bVGlg3hN-w",
        "outputId": "c46606fe-e6ac-42e2-ede8-10a15c95a703"
      },
      "outputs": [
        {
          "data": {
            "text/plain": [
              "[5, 1, 2, 3, 4]"
            ]
          },
          "execution_count": 10,
          "metadata": {},
          "output_type": "execute_result"
        }
      ],
      "source": [
        "rotIzquierda([1, 2, 3, 4, 5], 4)\n",
        "# Resultado: [5, 1, 2, 3, 4]"
      ]
    },
    {
      "cell_type": "markdown",
      "metadata": {
        "id": "_a2ug2QzhN-y"
      },
      "source": [
        "### Pruebas  Automaticas\n",
        "\n",
        "Todas las pruebas deben funcionar para obetener los puntos del ejercicio.\n",
        "\n",
        "##### Importante :\n",
        "En este ejercicio se evalua que la funcion sea optima, el tiempo de ejecucion tiene que ser el menor posible, se va a evaluar el resultado correcto y el tiempo de ejecucion, si en alguna de las pruebas obtienes **[FALLO: TIMEOUT]** la funcion no es optima debes cambiarla hasta que todas las pruebas pasen\n",
        "\n",
        "#### TIP:\n",
        "Utiliza **slice** en el array para optimizar la funcion"
      ]
    },
    {
      "cell_type": "code",
      "execution_count": null,
      "metadata": {
        "colab": {
          "base_uri": "https://localhost:8080/"
        },
        "id": "q5Ly_eb9hN-y",
        "outputId": "9dbeaabf-9cf1-4d55-9d59-c0de36fa39db"
      },
      "outputs": [
        {
          "name": "stdout",
          "output_type": "stream",
          "text": [
            "Prueba 1\n",
            "Prueba 1[CORRECTA]\n",
            "Prueba 2\n",
            "Prueba 2[CORRECTA]\n",
            "Prueba 3\n",
            "Prueba 3[CORRECTA]\n"
          ]
        }
      ],
      "source": [
        "validaciones.rotIzquierda_function(rotIzquierda)"
      ]
    }
  ],
  "metadata": {
    "accelerator": "TPU",
    "colab": {
      "collapsed_sections": [],
      "name": "tarea_1.ipynb",
      "provenance": [],
      "include_colab_link": true
    },
    "kernelspec": {
      "display_name": "Python 3",
      "language": "python",
      "name": "python3"
    },
    "language_info": {
      "codemirror_mode": {
        "name": "ipython",
        "version": 3
      },
      "file_extension": ".py",
      "mimetype": "text/x-python",
      "name": "python",
      "nbconvert_exporter": "python",
      "pygments_lexer": "ipython3",
      "version": "3.9.1"
    }
  },
  "nbformat": 4,
  "nbformat_minor": 0
}