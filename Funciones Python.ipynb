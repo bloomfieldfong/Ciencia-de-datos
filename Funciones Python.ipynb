{
  "nbformat": 4,
  "nbformat_minor": 0,
  "metadata": {
    "colab": {
      "name": "Tarea1.ipynb",
      "provenance": [],
      "authorship_tag": "ABX9TyMikw8W8N6fgRt1174RVOo1",
      "include_colab_link": true
    },
    "kernelspec": {
      "name": "python3",
      "display_name": "Python 3"
    },
    "language_info": {
      "name": "python"
    }
  },
  "cells": [
    {
      "cell_type": "markdown",
      "metadata": {
        "id": "view-in-github",
        "colab_type": "text"
      },
      "source": [
        "<a href=\"https://colab.research.google.com/github/bloomfieldfong/Ciencia-de-datos/blob/main/Funciones%20Python.ipynb\" target=\"_parent\"><img src=\"https://colab.research.google.com/assets/colab-badge.svg\" alt=\"Open In Colab\"/></a>"
      ]
    },
    {
      "cell_type": "code",
      "execution_count": null,
      "metadata": {
        "colab": {
          "base_uri": "https://localhost:8080/"
        },
        "id": "PBAktMGzQ9El",
        "outputId": "3bc1c902-14e1-4479-e8c9-ced29b52e7bc"
      },
      "outputs": [
        {
          "output_type": "stream",
          "name": "stdout",
          "text": [
            "Michelle Bloomfield\n",
            "Carné 2022345\n"
          ]
        }
      ],
      "source": [
        "print(\"Michelle Bloomfield\\nCarné 2022345\")"
      ]
    },
    {
      "cell_type": "markdown",
      "source": [
        "# **Funciones en Python**\n",
        "\n",
        "Para esta tarea se estara ejemplificando y dando una breve explicacion acerca de los siguientes temas:\n",
        "\n",
        "\n",
        "\n",
        "*   Funciones en Python\n",
        "*   Parametros posicionales\n",
        "* Parametros nombrados\n",
        "* Retorno de multiples valores\n",
        "* Funciones anonimas o lambda\n",
        "* Funciones como objetos y como parametros de otras funciones"
      ],
      "metadata": {
        "id": "Ubqjdlg3RIGh"
      }
    },
    {
      "cell_type": "markdown",
      "source": [
        "### **Funciones en Python**\n",
        "\n",
        "Una función es un procedimiento o metodo que nos ayuda realizar codigo reutilizable que se pueden ejecutar muchas veces. Como podemos ver en el ejemplo podemos utilizar la misma función para ser utilizada multiples veces."
      ],
      "metadata": {
        "id": "T_RES6-pR0SZ"
      }
    },
    {
      "cell_type": "code",
      "source": [
        "def do_something():\n",
        "  print(\"Hola! Soy una función\")\n",
        "\n",
        "do_something()\n",
        "do_something()\n",
        "do_something()\n",
        "do_something()"
      ],
      "metadata": {
        "colab": {
          "base_uri": "https://localhost:8080/"
        },
        "id": "um5nXlO6RUtE",
        "outputId": "f9fe94c2-658a-4161-f1d8-869552c1ed5c"
      },
      "execution_count": 10,
      "outputs": [
        {
          "output_type": "stream",
          "name": "stdout",
          "text": [
            "Hola! Soy una función\n",
            "Hola! Soy una función\n",
            "Hola! Soy una función\n",
            "Hola! Soy una función\n"
          ]
        }
      ]
    },
    {
      "cell_type": "markdown",
      "source": [
        "## **Parametros posicionales**\n",
        " \n",
        "Las funciones pueden recibir parametros o atributos que son valores que nos ayuda a realizar un proceso dentro de la funcion. Por ejemplo: para realizar una suma se necesita recibir 2 valores y estos parametros nos ayudar para ser reutilizable y poder usarlo con x cantidad de numeros difernetes.\n"
      ],
      "metadata": {
        "id": "tqARhE53SiII"
      }
    },
    {
      "cell_type": "code",
      "source": [
        "##Ejemplo de suma\n",
        "def suma(x,y):\n",
        "  return x+y\n",
        "\n",
        "print(suma(1,2))\n",
        "print(suma(5,2))"
      ],
      "metadata": {
        "colab": {
          "base_uri": "https://localhost:8080/"
        },
        "id": "HEVt8jUlShiX",
        "outputId": "79bb739d-6c61-41b3-81b4-fb43eeebad9c"
      },
      "execution_count": 11,
      "outputs": [
        {
          "output_type": "stream",
          "name": "stdout",
          "text": [
            "5\n",
            "3\n",
            "7\n"
          ]
        }
      ]
    },
    {
      "cell_type": "markdown",
      "source": [
        "## **Parametros** **nombrados**\n",
        " \n",
        " Los parametros nombrados se utilizan cunado se quiere utilizar un parametro default. Se establece en le funcion valores predeterminados el cual pueden ser sobreescribidos si se utilizan parametros posicionados. Un ejemplo (como el que se observa abajo) es una funcion que nos cuenta los dias atras de un dia x. Si no se obtiene ningun parametro se utiliza el dia de hoy como predeterminado y que se desea saber la fecha de 30 dias antes)"
      ],
      "metadata": {
        "id": "VpGxzjWmWfUn"
      }
    },
    {
      "cell_type": "code",
      "source": [
        "##Esta es una funcion que cree para mi trabajo\n",
        "from datetime import *\n",
        "\n",
        "def filtro_fechas(fecha_inicio = \"0\", dias_antes = 30):\n",
        "    if fecha_inicio == \"0\":\t\n",
        "        dia_inicio = date.today()\n",
        "    else:\n",
        "        dia_inicio = datetime.strptime(fecha_inicio, '%Y-%m-%d').date()\n",
        "    return str(dia_inicio - timedelta(dias_antes)), str(dia_inicio) \n",
        "\n",
        "print(filtro_fechas())\n",
        "print(filtro_fechas('2022-10-24', 90))"
      ],
      "metadata": {
        "colab": {
          "base_uri": "https://localhost:8080/"
        },
        "id": "pFQdKqhZWffP",
        "outputId": "8100f60e-67c7-4064-d230-affdead6f1e6"
      },
      "execution_count": 13,
      "outputs": [
        {
          "output_type": "stream",
          "name": "stdout",
          "text": [
            "('2022-02-22', '2022-03-24')\n",
            "('2022-07-26', '2022-10-24')\n"
          ]
        }
      ]
    },
    {
      "cell_type": "markdown",
      "source": [
        "## **Retorno de multiples valores**\n",
        "\n",
        "Este tipo de funciones es util al momento de tener que realizar operaciones y sea necesario retornar mas de 2 datos. Por ejemplo: cuando se requiere el area y el perimetro de un cuadrilatero.\n",
        "\n"
      ],
      "metadata": {
        "id": "ifAgyE4EUPlY"
      }
    },
    {
      "cell_type": "code",
      "source": [
        "def cuadrilatero(alto, ancho):\n",
        "\n",
        "  area =  alto*ancho\n",
        "  perimetro = alto*2 + ancho* 2\n",
        "  return  area, perimetro\n",
        "\n",
        "area, perimetro = cuadrilatero(5,6)\n",
        "print(\"El area es: {0}\".format(area))\n",
        "print(\"El perimetro es: {0}\".format(perimetro))"
      ],
      "metadata": {
        "colab": {
          "base_uri": "https://localhost:8080/"
        },
        "id": "_H-BJbKzUOlm",
        "outputId": "540390e8-510b-4ac3-f8f6-07b05e0a9944"
      },
      "execution_count": 6,
      "outputs": [
        {
          "output_type": "stream",
          "name": "stdout",
          "text": [
            "El area es: 30\n",
            "El perimetro es: 22\n"
          ]
        }
      ]
    },
    {
      "cell_type": "markdown",
      "source": [
        "## **Funciones anonimas o lambda**\n",
        "\n",
        "Este tipo de funciones es una manera simple y rapida de crear una funcion simple."
      ],
      "metadata": {
        "id": "TSxKkzFEV-Ox"
      }
    },
    {
      "cell_type": "code",
      "source": [
        "multiplicacion = lambda x, y: x * y\n",
        "\n",
        "print(multiplicacion(41,2))"
      ],
      "metadata": {
        "colab": {
          "base_uri": "https://localhost:8080/"
        },
        "id": "zwCDpFToV9o0",
        "outputId": "7aba5c3f-2cc4-4803-d830-a4c3bb62ea25"
      },
      "execution_count": 9,
      "outputs": [
        {
          "output_type": "stream",
          "name": "stdout",
          "text": [
            "82\n"
          ]
        }
      ]
    },
    {
      "cell_type": "markdown",
      "source": [
        "## **Funciones como objetos y como parametros de otras funcione**\n",
        "\n"
      ],
      "metadata": {
        "id": "3GXiQcNLZPGe"
      }
    },
    {
      "cell_type": "code",
      "source": [
        "def ingles():\n",
        "  return \"HELLO MA FRIEND\"\n",
        "\n",
        "def spanish():\n",
        "  return \"HOLI MI AMIGUIS\"\n",
        "\n",
        "def saluda(funcion):\n",
        "  return funcion()\n",
        "\n",
        "\n",
        "print(saluda(ingles))\n",
        "print(saluda(spanish))\n"
      ],
      "metadata": {
        "colab": {
          "base_uri": "https://localhost:8080/"
        },
        "id": "-uCTs7rlZPZ3",
        "outputId": "9d257141-5d77-4a18-dd5e-6c410aa78369"
      },
      "execution_count": 32,
      "outputs": [
        {
          "output_type": "stream",
          "name": "stdout",
          "text": [
            "HELLO MA FRIEND\n",
            "HOLI MI AMIGUIS\n"
          ]
        }
      ]
    },
    {
      "cell_type": "code",
      "source": [
        "def sumas(x, y):\n",
        "  return x+y\n",
        "\n",
        "def resta(x,y):\n",
        "  return x-y\n",
        "\n",
        "def multiplicacion(x,y):\n",
        "  return x*y\n",
        "\n",
        "def operacion(funcion,x,y):\n",
        "  return funcion(x,y)\n",
        "\n",
        "\n",
        "print(operacion(resta,2,3))\n",
        "print(operacion(suma,2,3))\n",
        "print(operacion(multiplicacion,2,3))\n"
      ],
      "metadata": {
        "colab": {
          "base_uri": "https://localhost:8080/"
        },
        "id": "x9EV5OxwdNR3",
        "outputId": "973d31b4-6271-421a-8b31-bab0676a2783"
      },
      "execution_count": 31,
      "outputs": [
        {
          "output_type": "stream",
          "name": "stdout",
          "text": [
            "-1\n",
            "5\n",
            "6\n"
          ]
        }
      ]
    },
    {
      "cell_type": "code",
      "source": [
        "def crear_saludo(texto):\n",
        "  def saludo(nombre):\n",
        "    return texto + \" \" + nombre\n",
        "  return saludo\n",
        "\n",
        "\n",
        "macdonalds = crear_saludo(\"Hola! Bienvenido a Macdonalds me llamo: \")\n",
        "print(macdonalds(\"Michelle\"))\n",
        "\n",
        "wendys = crear_saludo(\"Hi Welcome to Wendys my name is: \")\n",
        "print(wendys(\"Michelle\"))\n",
        "\n",
        "concat = crear_saludo(\"Basicamente esto concatenando\")\n",
        "print(concat(\"dos textos\"))"
      ],
      "metadata": {
        "colab": {
          "base_uri": "https://localhost:8080/"
        },
        "id": "ElrDsxrWchWr",
        "outputId": "7902c480-92fd-4c3e-fb48-9529de491089"
      },
      "execution_count": 30,
      "outputs": [
        {
          "output_type": "stream",
          "name": "stdout",
          "text": [
            "Hola! Bienvenido a Macdonalds me llamo:  Michelle\n",
            "Hi Welcome to Wendys my name is:  Michelle\n",
            "Basicamente esto concatenando dos textos\n"
          ]
        }
      ]
    }
  ]
}