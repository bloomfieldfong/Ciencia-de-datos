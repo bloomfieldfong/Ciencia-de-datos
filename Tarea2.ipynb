{
  "nbformat": 4,
  "nbformat_minor": 0,
  "metadata": {
    "colab": {
      "name": "Tarea2.ipynb",
      "provenance": [],
      "authorship_tag": "ABX9TyPfDDIt6clXk/fKxgx8rnXT",
      "include_colab_link": true
    },
    "kernelspec": {
      "name": "python3",
      "display_name": "Python 3"
    },
    "language_info": {
      "name": "python"
    }
  },
  "cells": [
    {
      "cell_type": "markdown",
      "metadata": {
        "id": "view-in-github",
        "colab_type": "text"
      },
      "source": [
        "<a href=\"https://colab.research.google.com/github/bloomfieldfong/Ciencia-de-datos/blob/main/Tarea2.ipynb\" target=\"_parent\"><img src=\"https://colab.research.google.com/assets/colab-badge.svg\" alt=\"Open In Colab\"/></a>"
      ]
    },
    {
      "cell_type": "code",
      "execution_count": null,
      "metadata": {
        "colab": {
          "base_uri": "https://localhost:8080/"
        },
        "id": "eWZcIDhccDpx",
        "outputId": "93d5297e-dcda-4321-af10-50d5e4310fad"
      },
      "outputs": [
        {
          "output_type": "stream",
          "name": "stdout",
          "text": [
            "Nombre: Michelle Bloomfield \n",
            "Carne: 22000345\n"
          ]
        }
      ],
      "source": [
        "print(\"Nombre: Michelle Bloomfield \\nCarne: 22000345\")"
      ]
    },
    {
      "cell_type": "markdown",
      "source": [
        "**Version de controles GIT**\n",
        "\n",
        "La version de controles es una herramienta que nos ayuda a tener controles de cambios en nuestro codigo, este tambien tiene otras ventajas como: \n",
        "\n",
        "- Conocer la persona que escribio algun modulo.\n",
        "- Saber en que momento se cambio alguna linea y por quien.\n",
        "- En las versiones, saber en que momento dejo de funcionar utilizando unit tests.\n",
        "\n",
        "Esta herramienta es de gran ventaja ya que en proyectos grandes o pequeños podemos tener versiones controladas de nuestro codigo y tener un mejor control de quien esta realizando cada avance. \n",
        "\n",
        "A continuacion estare presentando los comandos mas utiles que se me han presentado en mis años de uso de git."
      ],
      "metadata": {
        "id": "mprZzSM0cFgA"
      }
    },
    {
      "cell_type": "code",
      "source": [
        "## Añadir correo y usuario de github\n",
        "%%bash \n",
        "git config --global user.name \"Michelle Bloomfield\"\n",
        "git config --global user.email \"mi_correo@ejemplo.com\""
      ],
      "metadata": {
        "id": "Y0EUOf5MAh06"
      },
      "execution_count": null,
      "outputs": []
    },
    {
      "cell_type": "markdown",
      "source": [
        "**Snapshots**\n",
        "\n",
        "Un snapshot guarda una serie de trees (folders) y blobs (archivos) a travez del tiempo creando una secuencia lineal de snapshots. El snapshot se podria compara con copiar un folder y guardar esos cambios. "
      ],
      "metadata": {
        "id": "qu17oxvZAhAQ"
      }
    },
    {
      "cell_type": "code",
      "source": [
        "##Clonar repositorios\n",
        "%%bash \n",
        "git clone https://github.com/bloomfieldfong/Ciencia-de-datos"
      ],
      "metadata": {
        "id": "KmsZddFAAaB1"
      },
      "execution_count": null,
      "outputs": []
    },
    {
      "cell_type": "markdown",
      "source": [
        "**Pasos para subir archivos o blobs a un repositorio**"
      ],
      "metadata": {
        "id": "_9cJeCZmA_LB"
      }
    },
    {
      "cell_type": "code",
      "source": [
        "## Add es una funcion para agregar archivos a una carpeta que sera subida\n",
        "## git add -all : agrega todos los archivos / git add . : agregar / gitt add nombre : agrega el archivo especifico\n",
        "%%bash\n",
        "git add -all"
      ],
      "metadata": {
        "id": "1JT_qu5HAzPL"
      },
      "execution_count": null,
      "outputs": []
    },
    {
      "cell_type": "code",
      "source": [
        "##Commit nos permite agregar un comentarios a los archivos modificados/nuevos.\n",
        "%%bash\n",
        "git commit -m \"se realizo un cambio \""
      ],
      "metadata": {
        "id": "XcQDD596A6OW"
      },
      "execution_count": null,
      "outputs": []
    },
    {
      "cell_type": "code",
      "source": [
        "##Push nos permite subir los cambios realizados anteriormente \n",
        "%%bash\n",
        "git push"
      ],
      "metadata": {
        "id": "Vu1Q9sdxA8xb"
      },
      "execution_count": null,
      "outputs": []
    },
    {
      "cell_type": "markdown",
      "source": [
        "Algunas otras comandos que nos puede ayudar"
      ],
      "metadata": {
        "id": "Xw_ss_kTD2bX"
      }
    },
    {
      "cell_type": "code",
      "source": [
        "##Creacion de nuevo repoositorio\n",
        "%%bash\n",
        "git init"
      ],
      "metadata": {
        "id": "LLC2a-dSD1vi"
      },
      "execution_count": null,
      "outputs": []
    },
    {
      "cell_type": "markdown",
      "source": [
        "**Branching** \n",
        "\n",
        "Branching es una de las funcionalidades de GIT que nos permite crear una copia de alguna de las snapshots y trabajar por separado de la linea principal de trabajo. Esta tiene una gran ventaja ya que nos ayuda trabajar de manera paralela de partes que no estan relacionadas una con la otra. \n"
      ],
      "metadata": {
        "id": "Y7CBhkTNAauV"
      }
    },
    {
      "cell_type": "code",
      "source": [
        "## Para mostrar los branches que tenemos\n",
        "%%bash \n",
        "git branch"
      ],
      "metadata": {
        "colab": {
          "base_uri": "https://localhost:8080/"
        },
        "id": "OiAsGnk_fzBd",
        "outputId": "5091a0cf-fa1f-44ff-fd1a-d0f93b466839"
      },
      "execution_count": null,
      "outputs": [
        {
          "output_type": "stream",
          "name": "stderr",
          "text": [
            "fatal: not a git repository (or any of the parent directories): .git\n"
          ]
        }
      ]
    },
    {
      "cell_type": "code",
      "source": [
        "## Creacion de un branch nuevo, con nombre \"hola\"\n",
        "%%bash \n",
        "git branch hola"
      ],
      "metadata": {
        "colab": {
          "base_uri": "https://localhost:8080/"
        },
        "id": "ikZzgknu-3zS",
        "outputId": "361413d9-4a56-46c0-d86f-d06bb371b978"
      },
      "execution_count": null,
      "outputs": [
        {
          "output_type": "stream",
          "name": "stderr",
          "text": [
            "fatal: not a git repository (or any of the parent directories): .git\n"
          ]
        }
      ]
    },
    {
      "cell_type": "code",
      "source": [
        "## Creacion de un nuevo branch y nos movemos a ese branch\n",
        "%%bash \n",
        "git checkout -b holis"
      ],
      "metadata": {
        "id": "2rpudyvW585q"
      },
      "execution_count": null,
      "outputs": []
    },
    {
      "cell_type": "code",
      "source": [
        "## Merge nos permite unir al current branch\n",
        "%%bash\n",
        "git merge hola"
      ],
      "metadata": {
        "id": "iCofMpq3DJFS"
      },
      "execution_count": null,
      "outputs": []
    },
    {
      "cell_type": "code",
      "source": [
        "## Nos ayuda a resolver conflictos de merge\n",
        "%%bash\n",
        "git mergetool"
      ],
      "metadata": {
        "id": "3RWl3TcQErR7"
      },
      "execution_count": null,
      "outputs": []
    }
  ]
}